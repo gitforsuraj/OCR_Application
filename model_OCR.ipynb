{
 "cells": [
  {
   "cell_type": "code",
   "execution_count": 2,
   "metadata": {},
   "outputs": [],
   "source": [
    "import pandas as pd\n",
    "import numpy as np\n",
    "import keras\n",
    "import keras.layers as L\n",
    "import keras.models as M\n",
    "import tensorflow as tf\n",
    "from PIL import Image\n",
    "import os\n",
    "import matplotlib.pyplot as plt\n",
    "from keras.utils import Sequence"
   ]
  },
  {
   "cell_type": "code",
   "execution_count": 3,
   "metadata": {},
   "outputs": [],
   "source": [
    "train=pd.read_csv('/Users/suraj/Downloads/written_name_train_v2.csv')\n",
    "validation=pd.read_csv('/Users/suraj/Downloads/written_name_validation_v2.csv')"
   ]
  },
  {
   "cell_type": "code",
   "execution_count": 4,
   "metadata": {},
   "outputs": [
    {
     "data": {
      "text/plain": [
       "FILENAME      0\n",
       "IDENTITY    565\n",
       "dtype: int64"
      ]
     },
     "execution_count": 4,
     "metadata": {},
     "output_type": "execute_result"
    }
   ],
   "source": [
    "train.isna().sum()"
   ]
  },
  {
   "cell_type": "code",
   "execution_count": 5,
   "metadata": {},
   "outputs": [],
   "source": [
    "train.dropna(inplace=True)"
   ]
  },
  {
   "cell_type": "code",
   "execution_count": 6,
   "metadata": {},
   "outputs": [
    {
     "data": {
      "text/html": [
       "<div>\n",
       "<style scoped>\n",
       "    .dataframe tbody tr th:only-of-type {\n",
       "        vertical-align: middle;\n",
       "    }\n",
       "\n",
       "    .dataframe tbody tr th {\n",
       "        vertical-align: top;\n",
       "    }\n",
       "\n",
       "    .dataframe thead th {\n",
       "        text-align: right;\n",
       "    }\n",
       "</style>\n",
       "<table border=\"1\" class=\"dataframe\">\n",
       "  <thead>\n",
       "    <tr style=\"text-align: right;\">\n",
       "      <th></th>\n",
       "      <th>FILENAME</th>\n",
       "      <th>IDENTITY</th>\n",
       "    </tr>\n",
       "  </thead>\n",
       "  <tbody>\n",
       "    <tr>\n",
       "      <th>0</th>\n",
       "      <td>TRAIN_00001.jpg</td>\n",
       "      <td>BALTHAZAR</td>\n",
       "    </tr>\n",
       "    <tr>\n",
       "      <th>1</th>\n",
       "      <td>TRAIN_00002.jpg</td>\n",
       "      <td>SIMON</td>\n",
       "    </tr>\n",
       "    <tr>\n",
       "      <th>2</th>\n",
       "      <td>TRAIN_00003.jpg</td>\n",
       "      <td>BENES</td>\n",
       "    </tr>\n",
       "    <tr>\n",
       "      <th>3</th>\n",
       "      <td>TRAIN_00004.jpg</td>\n",
       "      <td>LA LOVE</td>\n",
       "    </tr>\n",
       "    <tr>\n",
       "      <th>4</th>\n",
       "      <td>TRAIN_00005.jpg</td>\n",
       "      <td>DAPHNE</td>\n",
       "    </tr>\n",
       "  </tbody>\n",
       "</table>\n",
       "</div>"
      ],
      "text/plain": [
       "          FILENAME   IDENTITY\n",
       "0  TRAIN_00001.jpg  BALTHAZAR\n",
       "1  TRAIN_00002.jpg      SIMON\n",
       "2  TRAIN_00003.jpg      BENES\n",
       "3  TRAIN_00004.jpg    LA LOVE\n",
       "4  TRAIN_00005.jpg     DAPHNE"
      ]
     },
     "execution_count": 6,
     "metadata": {},
     "output_type": "execute_result"
    }
   ],
   "source": [
    "train.head()"
   ]
  },
  {
   "cell_type": "code",
   "execution_count": 7,
   "metadata": {},
   "outputs": [
    {
     "data": {
      "text/html": [
       "<div>\n",
       "<style scoped>\n",
       "    .dataframe tbody tr th:only-of-type {\n",
       "        vertical-align: middle;\n",
       "    }\n",
       "\n",
       "    .dataframe tbody tr th {\n",
       "        vertical-align: top;\n",
       "    }\n",
       "\n",
       "    .dataframe thead th {\n",
       "        text-align: right;\n",
       "    }\n",
       "</style>\n",
       "<table border=\"1\" class=\"dataframe\">\n",
       "  <thead>\n",
       "    <tr style=\"text-align: right;\">\n",
       "      <th></th>\n",
       "      <th>count</th>\n",
       "      <th>unique</th>\n",
       "      <th>top</th>\n",
       "      <th>freq</th>\n",
       "    </tr>\n",
       "  </thead>\n",
       "  <tbody>\n",
       "    <tr>\n",
       "      <th>FILENAME</th>\n",
       "      <td>330396</td>\n",
       "      <td>330396</td>\n",
       "      <td>TRAIN_295546.jpg</td>\n",
       "      <td>1</td>\n",
       "    </tr>\n",
       "    <tr>\n",
       "      <th>IDENTITY</th>\n",
       "      <td>330396</td>\n",
       "      <td>100539</td>\n",
       "      <td>THOMAS</td>\n",
       "      <td>1825</td>\n",
       "    </tr>\n",
       "  </tbody>\n",
       "</table>\n",
       "</div>"
      ],
      "text/plain": [
       "           count  unique               top  freq\n",
       "FILENAME  330396  330396  TRAIN_295546.jpg     1\n",
       "IDENTITY  330396  100539            THOMAS  1825"
      ]
     },
     "execution_count": 7,
     "metadata": {},
     "output_type": "execute_result"
    }
   ],
   "source": [
    "train.describe().transpose()"
   ]
  },
  {
   "cell_type": "code",
   "execution_count": 8,
   "metadata": {},
   "outputs": [
    {
     "data": {
      "text/html": [
       "<div>\n",
       "<style scoped>\n",
       "    .dataframe tbody tr th:only-of-type {\n",
       "        vertical-align: middle;\n",
       "    }\n",
       "\n",
       "    .dataframe tbody tr th {\n",
       "        vertical-align: top;\n",
       "    }\n",
       "\n",
       "    .dataframe thead th {\n",
       "        text-align: right;\n",
       "    }\n",
       "</style>\n",
       "<table border=\"1\" class=\"dataframe\">\n",
       "  <thead>\n",
       "    <tr style=\"text-align: right;\">\n",
       "      <th></th>\n",
       "      <th>FILENAME</th>\n",
       "      <th>IDENTITY</th>\n",
       "      <th>Length</th>\n",
       "    </tr>\n",
       "  </thead>\n",
       "  <tbody>\n",
       "    <tr>\n",
       "      <th>10278</th>\n",
       "      <td>TRAIN_10279.jpg</td>\n",
       "      <td>DOSSANTOS LASCONCELOS</td>\n",
       "      <td>21</td>\n",
       "    </tr>\n",
       "    <tr>\n",
       "      <th>108567</th>\n",
       "      <td>TRAIN_108568.jpg</td>\n",
       "      <td>O ZUARRDI EREBEVITRAC</td>\n",
       "      <td>21</td>\n",
       "    </tr>\n",
       "    <tr>\n",
       "      <th>156500</th>\n",
       "      <td>TRAIN_156501.jpg</td>\n",
       "      <td>ANDRIANNARISOA--DEGHI</td>\n",
       "      <td>21</td>\n",
       "    </tr>\n",
       "    <tr>\n",
       "      <th>160575</th>\n",
       "      <td>TRAIN_160576.jpg</td>\n",
       "      <td>LOUISIANE - EVANGELIN</td>\n",
       "      <td>21</td>\n",
       "    </tr>\n",
       "    <tr>\n",
       "      <th>174121</th>\n",
       "      <td>TRAIN_174122.jpg</td>\n",
       "      <td>GU ILLOSSOO - OARRIBA</td>\n",
       "      <td>21</td>\n",
       "    </tr>\n",
       "    <tr>\n",
       "      <th>212583</th>\n",
       "      <td>TRAIN_212584.jpg</td>\n",
       "      <td>DE MALEZIEUX DU HAMEL</td>\n",
       "      <td>21</td>\n",
       "    </tr>\n",
       "    <tr>\n",
       "      <th>220135</th>\n",
       "      <td>TRAIN_220136.jpg</td>\n",
       "      <td>COSTREL DE CORAINVILL</td>\n",
       "      <td>21</td>\n",
       "    </tr>\n",
       "    <tr>\n",
       "      <th>229529</th>\n",
       "      <td>TRAIN_229530.jpg</td>\n",
       "      <td>ROUSSEAV -- CHAUDIERE</td>\n",
       "      <td>21</td>\n",
       "    </tr>\n",
       "    <tr>\n",
       "      <th>230011</th>\n",
       "      <td>TRAIN_230012.jpg</td>\n",
       "      <td>BEKNARD DE LAVERNETTE</td>\n",
       "      <td>21</td>\n",
       "    </tr>\n",
       "    <tr>\n",
       "      <th>308769</th>\n",
       "      <td>TRAIN_308770.jpg</td>\n",
       "      <td>DATE NAISSANCE CLASSE</td>\n",
       "      <td>21</td>\n",
       "    </tr>\n",
       "    <tr>\n",
       "      <th>325215</th>\n",
       "      <td>TRAIN_325216.jpg</td>\n",
       "      <td>BEHARY - LAUL - SIRDE</td>\n",
       "      <td>21</td>\n",
       "    </tr>\n",
       "  </tbody>\n",
       "</table>\n",
       "</div>"
      ],
      "text/plain": [
       "                FILENAME               IDENTITY  Length\n",
       "10278    TRAIN_10279.jpg  DOSSANTOS LASCONCELOS      21\n",
       "108567  TRAIN_108568.jpg  O ZUARRDI EREBEVITRAC      21\n",
       "156500  TRAIN_156501.jpg  ANDRIANNARISOA--DEGHI      21\n",
       "160575  TRAIN_160576.jpg  LOUISIANE - EVANGELIN      21\n",
       "174121  TRAIN_174122.jpg  GU ILLOSSOO - OARRIBA      21\n",
       "212583  TRAIN_212584.jpg  DE MALEZIEUX DU HAMEL      21\n",
       "220135  TRAIN_220136.jpg  COSTREL DE CORAINVILL      21\n",
       "229529  TRAIN_229530.jpg  ROUSSEAV -- CHAUDIERE      21\n",
       "230011  TRAIN_230012.jpg  BEKNARD DE LAVERNETTE      21\n",
       "308769  TRAIN_308770.jpg  DATE NAISSANCE CLASSE      21\n",
       "325215  TRAIN_325216.jpg  BEHARY - LAUL - SIRDE      21"
      ]
     },
     "execution_count": 8,
     "metadata": {},
     "output_type": "execute_result"
    }
   ],
   "source": [
    "train['Length']=train['IDENTITY'].apply(lambda x : len(str(x)))\n",
    "train=train[train['Length']<=21]\n",
    "train['IDENTITY']=train['IDENTITY'].str.upper()\n",
    "train[train['Length']==max(train['Length'])]"
   ]
  }
 ],
 "metadata": {
  "kernelspec": {
   "display_name": "Python 3",
   "language": "python",
   "name": "python3"
  },
  "language_info": {
   "codemirror_mode": {
    "name": "ipython",
    "version": 3
   },
   "file_extension": ".py",
   "mimetype": "text/x-python",
   "name": "python",
   "nbconvert_exporter": "python",
   "pygments_lexer": "ipython3",
   "version": "3.8.5"
  }
 },
 "nbformat": 4,
 "nbformat_minor": 4
}
